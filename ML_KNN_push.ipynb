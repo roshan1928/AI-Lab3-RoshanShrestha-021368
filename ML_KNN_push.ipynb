{
  "cells": [
    {
      "cell_type": "code",
      "execution_count": 1,
      "metadata": {
        "id": "J-FkiEqU4EY1"
      },
      "outputs": [],
      "source": [
        "!git config --global user.name \"roshan1928\"\n",
        "!git config --global user.email \"roshanstha01928@gmail.com\"\n",
        "!git config --global user.password \"stha1928@\""
      ]
    },
    {
      "cell_type": "code",
      "execution_count": null,
      "metadata": {
        "id": "AATsEqoQ4Y4H"
      },
      "outputs": [],
      "source": [
        "token = \"my_token\"\n",
        "username = \"roshan1928\"\n",
        "repo = \"AI-Lab3-RoshanShrestha-021368\""
      ]
    },
    {
      "cell_type": "code",
      "execution_count": 3,
      "metadata": {
        "colab": {
          "base_uri": "https://localhost:8080/"
        },
        "id": "fJzlLURm4fT7",
        "outputId": "59b01dee-0bbc-48c1-e9fc-bbc87f65b953"
      },
      "outputs": [
        {
          "name": "stdout",
          "output_type": "stream",
          "text": [
            "Cloning into 'AI-Lab3-RoshanShrestha-021368'...\n",
            "remote: Enumerating objects: 9, done.\u001b[K\n",
            "remote: Counting objects: 100% (9/9), done.\u001b[K\n",
            "remote: Compressing objects: 100% (5/5), done.\u001b[K\n",
            "remote: Total 9 (delta 1), reused 0 (delta 0), pack-reused 0 (from 0)\u001b[K\n",
            "Receiving objects: 100% (9/9), done.\n",
            "Resolving deltas: 100% (1/1), done.\n"
          ]
        }
      ],
      "source": [
        "!git clone https://{token}@github.com/{username}/{repo}"
      ]
    },
    {
      "cell_type": "code",
      "execution_count": 4,
      "metadata": {
        "colab": {
          "base_uri": "https://localhost:8080/"
        },
        "id": "c_cBSULj4idG",
        "outputId": "53175145-7369-4929-fba5-2559be8da6e3"
      },
      "outputs": [
        {
          "name": "stdout",
          "output_type": "stream",
          "text": [
            "/content/AI-Lab3-RoshanShrestha-021368\n"
          ]
        }
      ],
      "source": [
        "%cd {repo}"
      ]
    },
    {
      "cell_type": "code",
      "execution_count": 7,
      "metadata": {
        "id": "YAqwxQ3w4n5k"
      },
      "outputs": [],
      "source": [
        "!mv /content/knn_binary_classification.py /content/AI-Lab3-RoshanShrestha-021368"
      ]
    },
    {
      "cell_type": "code",
      "execution_count": 8,
      "metadata": {
        "id": "ZsqQNGzw4n-7"
      },
      "outputs": [],
      "source": [
        "!mv /content/knn_multiclass_classification.py /content/AI-Lab3-RoshanShrestha-021368"
      ]
    },
    {
      "cell_type": "code",
      "execution_count": 9,
      "metadata": {
        "id": "fdeT7RYI4oIk"
      },
      "outputs": [],
      "source": [
        "!mv /content/knn_visualization.py /content/AI-Lab3-RoshanShrestha-021368"
      ]
    },
    {
      "cell_type": "code",
      "execution_count": 10,
      "metadata": {
        "id": "MWtjamvW44Qk"
      },
      "outputs": [],
      "source": [
        "!git add --all"
      ]
    },
    {
      "cell_type": "code",
      "execution_count": 11,
      "metadata": {
        "colab": {
          "base_uri": "https://localhost:8080/"
        },
        "id": "xgw-BFer44XZ",
        "outputId": "bd004015-89f2-4b3f-bce3-a67d3d7c8213"
      },
      "outputs": [
        {
          "name": "stdout",
          "output_type": "stream",
          "text": [
            "[main 536f18e] Added a file to the AI LAB 3\n",
            " 3 files changed, 134 insertions(+)\n",
            " create mode 100644 knn_binary_classification.py\n",
            " create mode 100644 knn_multiclass_classification.py\n",
            " create mode 100644 knn_visualization.py\n"
          ]
        }
      ],
      "source": [
        "!git commit -a -m \"Added a file to the AI LAB 3\""
      ]
    },
    {
      "cell_type": "code",
      "execution_count": 12,
      "metadata": {
        "colab": {
          "base_uri": "https://localhost:8080/"
        },
        "id": "nRtt0yWe44eD",
        "outputId": "7db9b8dd-4ca9-474c-ae98-a5aaca3eedca"
      },
      "outputs": [
        {
          "name": "stdout",
          "output_type": "stream",
          "text": [
            "Enumerating objects: 6, done.\n",
            "Counting objects:  16% (1/6)\rCounting objects:  33% (2/6)\rCounting objects:  50% (3/6)\rCounting objects:  66% (4/6)\rCounting objects:  83% (5/6)\rCounting objects: 100% (6/6)\rCounting objects: 100% (6/6), done.\n",
            "Delta compression using up to 2 threads\n",
            "Compressing objects:  20% (1/5)\rCompressing objects:  40% (2/5)\rCompressing objects:  60% (3/5)\rCompressing objects:  80% (4/5)\rCompressing objects: 100% (5/5)\rCompressing objects: 100% (5/5), done.\n",
            "Writing objects:  20% (1/5)\rWriting objects:  40% (2/5)\rWriting objects:  80% (4/5)\rWriting objects: 100% (5/5)\rWriting objects: 100% (5/5), 1.75 KiB | 1.75 MiB/s, done.\n",
            "Total 5 (delta 1), reused 0 (delta 0), pack-reused 0\n",
            "remote: Resolving deltas: 100% (1/1), done.\u001b[K\n",
            "To https://github.com/roshan1928/AI-Lab3-RoshanShrestha-021368\n",
            "   320b068..536f18e  main -> main\n"
          ]
        }
      ],
      "source": [
        "!git push origin main"
      ]
    }
  ],
  "metadata": {
    "colab": {
      "provenance": []
    },
    "kernelspec": {
      "display_name": "Python 3",
      "name": "python3"
    },
    "language_info": {
      "name": "python"
    }
  },
  "nbformat": 4,
  "nbformat_minor": 0
}
